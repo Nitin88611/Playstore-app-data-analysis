{
  "nbformat": 4,
  "nbformat_minor": 0,
  "metadata": {
    "colab": {
      "name": "Practice",
      "provenance": [],
      "collapsed_sections": [],
      "authorship_tag": "ABX9TyOB/yq5vZDIfLUv7tV29kMq",
      "include_colab_link": true
    },
    "kernelspec": {
      "name": "python3",
      "display_name": "Python 3"
    },
    "language_info": {
      "name": "python"
    }
  },
  "cells": [
    {
      "cell_type": "markdown",
      "metadata": {
        "id": "view-in-github",
        "colab_type": "text"
      },
      "source": [
        "<a href=\"https://colab.research.google.com/github/Nitin88611/Playstore-app-data-analysis/blob/main/Practice.ipynb\" target=\"_parent\"><img src=\"https://colab.research.google.com/assets/colab-badge.svg\" alt=\"Open In Colab\"/></a>"
      ]
    },
    {
      "cell_type": "code",
      "execution_count": null,
      "metadata": {
        "colab": {
          "base_uri": "https://localhost:8080/"
        },
        "id": "fvNEsAmHoxFx",
        "outputId": "332de891-4602-47cb-be8e-007115d4ea57"
      },
      "outputs": [
        {
          "output_type": "stream",
          "name": "stdout",
          "text": [
            "[1, 'Nitin', True, 4, 5.5, 6, 7, 8, 9]\n"
          ]
        },
        {
          "output_type": "execute_result",
          "data": {
            "text/plain": [
              "5"
            ]
          },
          "metadata": {},
          "execution_count": 9
        }
      ],
      "source": [
        "# define a list named numbe\n",
        "numbe = [1,'Nitin',True,4,5.5,6,7,8,9]\n",
        "print(numbe)\n",
        "type(numbe[2])\n",
        "len(numbe[1])"
      ]
    },
    {
      "cell_type": "code",
      "source": [
        "newlist = ['acb','aaa','aca']\n",
        "sorted(newlist)"
      ],
      "metadata": {
        "colab": {
          "base_uri": "https://localhost:8080/"
        },
        "id": "hI8K3w6J0LbD",
        "outputId": "04e06667-5e54-4785-c6cd-015625815594"
      },
      "execution_count": null,
      "outputs": [
        {
          "output_type": "execute_result",
          "data": {
            "text/plain": [
              "['aaa', 'aca', 'acb']"
            ]
          },
          "metadata": {},
          "execution_count": 15
        }
      ]
    },
    {
      "cell_type": "markdown",
      "source": [
        ""
      ],
      "metadata": {
        "id": "ecFaLKzbo15d"
      }
    },
    {
      "cell_type": "code",
      "source": [
        "print (\"hello\\example\\text.txt\")"
      ],
      "metadata": {
        "colab": {
          "base_uri": "https://localhost:8080/"
        },
        "id": "LeaQDTyiV0Rw",
        "outputId": "78292e49-92c5-4884-a548-48cdbaaa10c8"
      },
      "execution_count": null,
      "outputs": [
        {
          "output_type": "stream",
          "name": "stdout",
          "text": [
            "hello\\example\text.txt\n"
          ]
        }
      ]
    },
    {
      "cell_type": "code",
      "source": [
        "a = list()\n",
        "a = [1,8,3,4,5,6,7]\n",
        "print(a)\n",
        "sorted(a,reverse=False)"
      ],
      "metadata": {
        "colab": {
          "base_uri": "https://localhost:8080/"
        },
        "id": "oBCxqIxw1YsS",
        "outputId": "332f25ad-577e-4df9-c791-f79746d07495"
      },
      "execution_count": null,
      "outputs": [
        {
          "output_type": "stream",
          "name": "stdout",
          "text": [
            "[1, 8, 3, 4, 5, 6, 7]\n"
          ]
        },
        {
          "output_type": "execute_result",
          "data": {
            "text/plain": [
              "[1, 3, 4, 5, 6, 7, 8]"
            ]
          },
          "metadata": {},
          "execution_count": 22
        }
      ]
    },
    {
      "cell_type": "code",
      "source": [
        "wday = ('Monday', 'Tuesday', 'Thursday')"
      ],
      "metadata": {
        "id": "HS8rzIJS1fYM"
      },
      "execution_count": null,
      "outputs": []
    },
    {
      "cell_type": "code",
      "source": [
        "import numpy as nym\n",
        "\n",
        "main_array = nym.array([2,3,5,7,11])\n",
        "\n",
        "print(type(main_array))\n",
        "\n",
        "print(main_array)\n",
        "\n",
        "another_array = nym.array([[1,2],[3,4]])\n",
        "print(another_array)\n",
        "\n",
        "print(main_array.shape)"
      ],
      "metadata": {
        "colab": {
          "base_uri": "https://localhost:8080/"
        },
        "id": "AhLRDjY8lis6",
        "outputId": "bd8ad22d-3514-4561-ef82-0773d83ffe56"
      },
      "execution_count": null,
      "outputs": [
        {
          "output_type": "stream",
          "name": "stdout",
          "text": [
            "<class 'numpy.ndarray'>\n",
            "[ 2  3  5  7 11]\n",
            "[[1 2]\n",
            " [3 4]]\n",
            "(5,)\n"
          ]
        }
      ]
    },
    {
      "cell_type": "code",
      "source": [
        ""
      ],
      "metadata": {
        "id": "FZmMqJkxllzr"
      },
      "execution_count": null,
      "outputs": []
    }
  ]
}